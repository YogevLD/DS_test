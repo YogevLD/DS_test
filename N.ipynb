{
 "cells": [
  {
   "cell_type": "code",
   "execution_count": 37,
   "id": "445eb9e7-6797-4e62-958c-1ddccd4c5dcd",
   "metadata": {},
   "outputs": [],
   "source": [
    "import numpy as np\n",
    "import pandas as pd\n",
    "import numpy as np\n",
    "import seaborn as sns\n",
    "import sklearn as sk\n",
    "import matplotlib.pyplot as plt\n",
    "from sklearn import tree\n",
    "from sklearn.tree import DecisionTreeClassifier"
   ]
  },
  {
   "cell_type": "markdown",
   "id": "508117e5-cc31-4523-98c6-3cfb425bb72a",
   "metadata": {},
   "source": [
    "<div>\n",
    "<img src=\"heart_disease.jpg\" width=\"400\"/>\n",
    "</div>\n"
   ]
  },
  {
   "cell_type": "code",
   "execution_count": 14,
   "id": "e85a83b2-3bcb-4893-a842-af04aab51516",
   "metadata": {},
   "outputs": [
    {
     "data": {
      "text/html": [
       "<div>\n",
       "<style scoped>\n",
       "    .dataframe tbody tr th:only-of-type {\n",
       "        vertical-align: middle;\n",
       "    }\n",
       "\n",
       "    .dataframe tbody tr th {\n",
       "        vertical-align: top;\n",
       "    }\n",
       "\n",
       "    .dataframe thead th {\n",
       "        text-align: right;\n",
       "    }\n",
       "</style>\n",
       "<table border=\"1\" class=\"dataframe\">\n",
       "  <thead>\n",
       "    <tr style=\"text-align: right;\">\n",
       "      <th></th>\n",
       "      <th>male</th>\n",
       "      <th>age</th>\n",
       "      <th>education</th>\n",
       "      <th>currentSmoker</th>\n",
       "      <th>cigsPerDay</th>\n",
       "      <th>BPMeds</th>\n",
       "      <th>prevalentStroke</th>\n",
       "      <th>prevalentHyp</th>\n",
       "      <th>diabetes</th>\n",
       "      <th>totChol</th>\n",
       "      <th>sysBP</th>\n",
       "      <th>diaBP</th>\n",
       "      <th>BMI</th>\n",
       "      <th>heartRate</th>\n",
       "      <th>glucose</th>\n",
       "      <th>TenYearCHD</th>\n",
       "    </tr>\n",
       "  </thead>\n",
       "  <tbody>\n",
       "    <tr>\n",
       "      <th>0</th>\n",
       "      <td>1</td>\n",
       "      <td>39</td>\n",
       "      <td>1</td>\n",
       "      <td>0</td>\n",
       "      <td>0</td>\n",
       "      <td>0</td>\n",
       "      <td>0</td>\n",
       "      <td>0</td>\n",
       "      <td>0</td>\n",
       "      <td>195</td>\n",
       "      <td>106.0</td>\n",
       "      <td>70.0</td>\n",
       "      <td>26.97</td>\n",
       "      <td>80</td>\n",
       "      <td>77</td>\n",
       "      <td>0</td>\n",
       "    </tr>\n",
       "    <tr>\n",
       "      <th>1</th>\n",
       "      <td>0</td>\n",
       "      <td>46</td>\n",
       "      <td>0</td>\n",
       "      <td>0</td>\n",
       "      <td>0</td>\n",
       "      <td>0</td>\n",
       "      <td>0</td>\n",
       "      <td>0</td>\n",
       "      <td>0</td>\n",
       "      <td>250</td>\n",
       "      <td>121.0</td>\n",
       "      <td>81.0</td>\n",
       "      <td>28.73</td>\n",
       "      <td>95</td>\n",
       "      <td>76</td>\n",
       "      <td>0</td>\n",
       "    </tr>\n",
       "    <tr>\n",
       "      <th>2</th>\n",
       "      <td>1</td>\n",
       "      <td>48</td>\n",
       "      <td>0</td>\n",
       "      <td>1</td>\n",
       "      <td>20</td>\n",
       "      <td>0</td>\n",
       "      <td>0</td>\n",
       "      <td>0</td>\n",
       "      <td>0</td>\n",
       "      <td>245</td>\n",
       "      <td>127.5</td>\n",
       "      <td>80.0</td>\n",
       "      <td>25.34</td>\n",
       "      <td>75</td>\n",
       "      <td>70</td>\n",
       "      <td>0</td>\n",
       "    </tr>\n",
       "    <tr>\n",
       "      <th>3</th>\n",
       "      <td>0</td>\n",
       "      <td>61</td>\n",
       "      <td>1</td>\n",
       "      <td>1</td>\n",
       "      <td>30</td>\n",
       "      <td>0</td>\n",
       "      <td>0</td>\n",
       "      <td>1</td>\n",
       "      <td>0</td>\n",
       "      <td>225</td>\n",
       "      <td>150.0</td>\n",
       "      <td>95.0</td>\n",
       "      <td>28.58</td>\n",
       "      <td>65</td>\n",
       "      <td>103</td>\n",
       "      <td>1</td>\n",
       "    </tr>\n",
       "    <tr>\n",
       "      <th>4</th>\n",
       "      <td>0</td>\n",
       "      <td>46</td>\n",
       "      <td>1</td>\n",
       "      <td>1</td>\n",
       "      <td>23</td>\n",
       "      <td>0</td>\n",
       "      <td>0</td>\n",
       "      <td>0</td>\n",
       "      <td>0</td>\n",
       "      <td>285</td>\n",
       "      <td>130.0</td>\n",
       "      <td>84.0</td>\n",
       "      <td>23.10</td>\n",
       "      <td>85</td>\n",
       "      <td>85</td>\n",
       "      <td>0</td>\n",
       "    </tr>\n",
       "  </tbody>\n",
       "</table>\n",
       "</div>"
      ],
      "text/plain": [
       "   male  age  education  currentSmoker  cigsPerDay  BPMeds  prevalentStroke  \\\n",
       "0     1   39          1              0           0       0                0   \n",
       "1     0   46          0              0           0       0                0   \n",
       "2     1   48          0              1          20       0                0   \n",
       "3     0   61          1              1          30       0                0   \n",
       "4     0   46          1              1          23       0                0   \n",
       "\n",
       "   prevalentHyp  diabetes  totChol  sysBP  diaBP    BMI  heartRate  glucose  \\\n",
       "0             0         0      195  106.0   70.0  26.97         80       77   \n",
       "1             0         0      250  121.0   81.0  28.73         95       76   \n",
       "2             0         0      245  127.5   80.0  25.34         75       70   \n",
       "3             1         0      225  150.0   95.0  28.58         65      103   \n",
       "4             0         0      285  130.0   84.0  23.10         85       85   \n",
       "\n",
       "   TenYearCHD  \n",
       "0           0  \n",
       "1           0  \n",
       "2           0  \n",
       "3           1  \n",
       "4           0  "
      ]
     },
     "execution_count": 14,
     "metadata": {},
     "output_type": "execute_result"
    }
   ],
   "source": [
    "url= 'https://raw.githubusercontent.com/YogevLD/DS_test/main/CHD_preprocessed%20(1).csv'\n",
    "heart_diseases= pd.read_csv(url)\n",
    "heart_diseases.head(5)"
   ]
  },
  {
   "cell_type": "markdown",
   "id": "b21b62a5-7253-4470-b331-6f80fca7e29d",
   "metadata": {},
   "source": [
    "### We will checking the data:\n",
    "\n",
    "- Treat missing values (if needed)\n",
    "- Treat column names (if needed)\n",
    "- Treat data types (if needed)"
   ]
  },
  {
   "cell_type": "markdown",
   "id": "91d13cc7-2810-4a64-8e18-7c0e09af0b55",
   "metadata": {},
   "source": [
    "### Treat missing values\n",
    "\n",
    "#### Check if there are missing values:"
   ]
  },
  {
   "cell_type": "code",
   "execution_count": 15,
   "id": "363961e3-551d-4a6b-83b1-9815a85557cb",
   "metadata": {},
   "outputs": [
    {
     "data": {
      "text/html": [
       "<div>\n",
       "<style scoped>\n",
       "    .dataframe tbody tr th:only-of-type {\n",
       "        vertical-align: middle;\n",
       "    }\n",
       "\n",
       "    .dataframe tbody tr th {\n",
       "        vertical-align: top;\n",
       "    }\n",
       "\n",
       "    .dataframe thead th {\n",
       "        text-align: right;\n",
       "    }\n",
       "</style>\n",
       "<table border=\"1\" class=\"dataframe\">\n",
       "  <thead>\n",
       "    <tr style=\"text-align: right;\">\n",
       "      <th></th>\n",
       "      <th>0</th>\n",
       "    </tr>\n",
       "  </thead>\n",
       "  <tbody>\n",
       "    <tr>\n",
       "      <th>male</th>\n",
       "      <td>0</td>\n",
       "    </tr>\n",
       "    <tr>\n",
       "      <th>age</th>\n",
       "      <td>0</td>\n",
       "    </tr>\n",
       "    <tr>\n",
       "      <th>education</th>\n",
       "      <td>0</td>\n",
       "    </tr>\n",
       "    <tr>\n",
       "      <th>currentSmoker</th>\n",
       "      <td>0</td>\n",
       "    </tr>\n",
       "    <tr>\n",
       "      <th>cigsPerDay</th>\n",
       "      <td>0</td>\n",
       "    </tr>\n",
       "    <tr>\n",
       "      <th>BPMeds</th>\n",
       "      <td>0</td>\n",
       "    </tr>\n",
       "    <tr>\n",
       "      <th>prevalentStroke</th>\n",
       "      <td>0</td>\n",
       "    </tr>\n",
       "    <tr>\n",
       "      <th>prevalentHyp</th>\n",
       "      <td>0</td>\n",
       "    </tr>\n",
       "    <tr>\n",
       "      <th>diabetes</th>\n",
       "      <td>0</td>\n",
       "    </tr>\n",
       "    <tr>\n",
       "      <th>totChol</th>\n",
       "      <td>0</td>\n",
       "    </tr>\n",
       "    <tr>\n",
       "      <th>sysBP</th>\n",
       "      <td>0</td>\n",
       "    </tr>\n",
       "    <tr>\n",
       "      <th>diaBP</th>\n",
       "      <td>0</td>\n",
       "    </tr>\n",
       "    <tr>\n",
       "      <th>BMI</th>\n",
       "      <td>0</td>\n",
       "    </tr>\n",
       "    <tr>\n",
       "      <th>heartRate</th>\n",
       "      <td>0</td>\n",
       "    </tr>\n",
       "    <tr>\n",
       "      <th>glucose</th>\n",
       "      <td>0</td>\n",
       "    </tr>\n",
       "    <tr>\n",
       "      <th>TenYearCHD</th>\n",
       "      <td>0</td>\n",
       "    </tr>\n",
       "  </tbody>\n",
       "</table>\n",
       "</div>"
      ],
      "text/plain": [
       "                 0\n",
       "male             0\n",
       "age              0\n",
       "education        0\n",
       "currentSmoker    0\n",
       "cigsPerDay       0\n",
       "BPMeds           0\n",
       "prevalentStroke  0\n",
       "prevalentHyp     0\n",
       "diabetes         0\n",
       "totChol          0\n",
       "sysBP            0\n",
       "diaBP            0\n",
       "BMI              0\n",
       "heartRate        0\n",
       "glucose          0\n",
       "TenYearCHD       0"
      ]
     },
     "execution_count": 15,
     "metadata": {},
     "output_type": "execute_result"
    }
   ],
   "source": [
    "pd.DataFrame(heart_diseases.isnull().sum())"
   ]
  },
  {
   "cell_type": "markdown",
   "id": "20d679f9-fba2-4b5e-9751-78bc8f65f490",
   "metadata": {},
   "source": [
    "### Fixing data types\n",
    "##### Check if any of the data types need to be fixed:"
   ]
  },
  {
   "cell_type": "code",
   "execution_count": 16,
   "id": "f5f41aac-2379-49eb-8fe0-f77b663bf1fa",
   "metadata": {},
   "outputs": [
    {
     "data": {
      "text/html": [
       "<div>\n",
       "<style scoped>\n",
       "    .dataframe tbody tr th:only-of-type {\n",
       "        vertical-align: middle;\n",
       "    }\n",
       "\n",
       "    .dataframe tbody tr th {\n",
       "        vertical-align: top;\n",
       "    }\n",
       "\n",
       "    .dataframe thead th {\n",
       "        text-align: right;\n",
       "    }\n",
       "</style>\n",
       "<table border=\"1\" class=\"dataframe\">\n",
       "  <thead>\n",
       "    <tr style=\"text-align: right;\">\n",
       "      <th></th>\n",
       "      <th>0</th>\n",
       "    </tr>\n",
       "  </thead>\n",
       "  <tbody>\n",
       "    <tr>\n",
       "      <th>male</th>\n",
       "      <td>int64</td>\n",
       "    </tr>\n",
       "    <tr>\n",
       "      <th>age</th>\n",
       "      <td>int64</td>\n",
       "    </tr>\n",
       "    <tr>\n",
       "      <th>education</th>\n",
       "      <td>int64</td>\n",
       "    </tr>\n",
       "    <tr>\n",
       "      <th>currentSmoker</th>\n",
       "      <td>int64</td>\n",
       "    </tr>\n",
       "    <tr>\n",
       "      <th>cigsPerDay</th>\n",
       "      <td>int64</td>\n",
       "    </tr>\n",
       "    <tr>\n",
       "      <th>BPMeds</th>\n",
       "      <td>int64</td>\n",
       "    </tr>\n",
       "    <tr>\n",
       "      <th>prevalentStroke</th>\n",
       "      <td>int64</td>\n",
       "    </tr>\n",
       "    <tr>\n",
       "      <th>prevalentHyp</th>\n",
       "      <td>int64</td>\n",
       "    </tr>\n",
       "    <tr>\n",
       "      <th>diabetes</th>\n",
       "      <td>int64</td>\n",
       "    </tr>\n",
       "    <tr>\n",
       "      <th>totChol</th>\n",
       "      <td>int64</td>\n",
       "    </tr>\n",
       "    <tr>\n",
       "      <th>sysBP</th>\n",
       "      <td>float64</td>\n",
       "    </tr>\n",
       "    <tr>\n",
       "      <th>diaBP</th>\n",
       "      <td>float64</td>\n",
       "    </tr>\n",
       "    <tr>\n",
       "      <th>BMI</th>\n",
       "      <td>float64</td>\n",
       "    </tr>\n",
       "    <tr>\n",
       "      <th>heartRate</th>\n",
       "      <td>int64</td>\n",
       "    </tr>\n",
       "    <tr>\n",
       "      <th>glucose</th>\n",
       "      <td>int64</td>\n",
       "    </tr>\n",
       "    <tr>\n",
       "      <th>TenYearCHD</th>\n",
       "      <td>int64</td>\n",
       "    </tr>\n",
       "  </tbody>\n",
       "</table>\n",
       "</div>"
      ],
      "text/plain": [
       "                       0\n",
       "male               int64\n",
       "age                int64\n",
       "education          int64\n",
       "currentSmoker      int64\n",
       "cigsPerDay         int64\n",
       "BPMeds             int64\n",
       "prevalentStroke    int64\n",
       "prevalentHyp       int64\n",
       "diabetes           int64\n",
       "totChol            int64\n",
       "sysBP            float64\n",
       "diaBP            float64\n",
       "BMI              float64\n",
       "heartRate          int64\n",
       "glucose            int64\n",
       "TenYearCHD         int64"
      ]
     },
     "execution_count": 16,
     "metadata": {},
     "output_type": "execute_result"
    }
   ],
   "source": [
    "pd.DataFrame(heart_diseases.dtypes)"
   ]
  },
  {
   "cell_type": "markdown",
   "id": "42082912-a7a8-4ec5-8143-c0db41883b61",
   "metadata": {},
   "source": [
    "### About the data:\n",
    "##### The data is from an ongoing cardiovascular study on residents of the town of Framingham, Massachusetts. \n",
    "##### The data includes 15 columns of medical and behavioral parameters and the target column is TenYearCHD.\n",
    "##### About \"TenYearCHD\",The classification goal is to predict whether the patient has a 10-year risk of future coronary heart disease (CHD)."
   ]
  },
  {
   "cell_type": "markdown",
   "id": "1bee63ba-be5d-4e5c-acbc-999056def49d",
   "metadata": {},
   "source": [
    "- Creates two new columns that will hold categorical rather than Boolean values for the male and TenYearCHD columns,in order to make it more readable to display them."
   ]
  },
  {
   "cell_type": "code",
   "execution_count": 17,
   "id": "e7752922-1bd5-4c1c-9197-023ba97775e4",
   "metadata": {},
   "outputs": [
    {
     "data": {
      "text/html": [
       "<div>\n",
       "<style scoped>\n",
       "    .dataframe tbody tr th:only-of-type {\n",
       "        vertical-align: middle;\n",
       "    }\n",
       "\n",
       "    .dataframe tbody tr th {\n",
       "        vertical-align: top;\n",
       "    }\n",
       "\n",
       "    .dataframe thead th {\n",
       "        text-align: right;\n",
       "    }\n",
       "</style>\n",
       "<table border=\"1\" class=\"dataframe\">\n",
       "  <thead>\n",
       "    <tr style=\"text-align: right;\">\n",
       "      <th></th>\n",
       "      <th>male</th>\n",
       "      <th>age</th>\n",
       "      <th>education</th>\n",
       "      <th>currentSmoker</th>\n",
       "      <th>cigsPerDay</th>\n",
       "      <th>BPMeds</th>\n",
       "      <th>prevalentStroke</th>\n",
       "      <th>prevalentHyp</th>\n",
       "      <th>diabetes</th>\n",
       "      <th>totChol</th>\n",
       "      <th>sysBP</th>\n",
       "      <th>diaBP</th>\n",
       "      <th>BMI</th>\n",
       "      <th>heartRate</th>\n",
       "      <th>glucose</th>\n",
       "      <th>TenYearCHD</th>\n",
       "      <th>male/female</th>\n",
       "      <th>Chance of getting sick</th>\n",
       "    </tr>\n",
       "  </thead>\n",
       "  <tbody>\n",
       "    <tr>\n",
       "      <th>0</th>\n",
       "      <td>1</td>\n",
       "      <td>39</td>\n",
       "      <td>1</td>\n",
       "      <td>0</td>\n",
       "      <td>0</td>\n",
       "      <td>0</td>\n",
       "      <td>0</td>\n",
       "      <td>0</td>\n",
       "      <td>0</td>\n",
       "      <td>195</td>\n",
       "      <td>106.0</td>\n",
       "      <td>70.0</td>\n",
       "      <td>26.97</td>\n",
       "      <td>80</td>\n",
       "      <td>77</td>\n",
       "      <td>0</td>\n",
       "      <td>male</td>\n",
       "      <td>No</td>\n",
       "    </tr>\n",
       "    <tr>\n",
       "      <th>1</th>\n",
       "      <td>0</td>\n",
       "      <td>46</td>\n",
       "      <td>0</td>\n",
       "      <td>0</td>\n",
       "      <td>0</td>\n",
       "      <td>0</td>\n",
       "      <td>0</td>\n",
       "      <td>0</td>\n",
       "      <td>0</td>\n",
       "      <td>250</td>\n",
       "      <td>121.0</td>\n",
       "      <td>81.0</td>\n",
       "      <td>28.73</td>\n",
       "      <td>95</td>\n",
       "      <td>76</td>\n",
       "      <td>0</td>\n",
       "      <td>female</td>\n",
       "      <td>No</td>\n",
       "    </tr>\n",
       "    <tr>\n",
       "      <th>2</th>\n",
       "      <td>1</td>\n",
       "      <td>48</td>\n",
       "      <td>0</td>\n",
       "      <td>1</td>\n",
       "      <td>20</td>\n",
       "      <td>0</td>\n",
       "      <td>0</td>\n",
       "      <td>0</td>\n",
       "      <td>0</td>\n",
       "      <td>245</td>\n",
       "      <td>127.5</td>\n",
       "      <td>80.0</td>\n",
       "      <td>25.34</td>\n",
       "      <td>75</td>\n",
       "      <td>70</td>\n",
       "      <td>0</td>\n",
       "      <td>male</td>\n",
       "      <td>No</td>\n",
       "    </tr>\n",
       "    <tr>\n",
       "      <th>3</th>\n",
       "      <td>0</td>\n",
       "      <td>61</td>\n",
       "      <td>1</td>\n",
       "      <td>1</td>\n",
       "      <td>30</td>\n",
       "      <td>0</td>\n",
       "      <td>0</td>\n",
       "      <td>1</td>\n",
       "      <td>0</td>\n",
       "      <td>225</td>\n",
       "      <td>150.0</td>\n",
       "      <td>95.0</td>\n",
       "      <td>28.58</td>\n",
       "      <td>65</td>\n",
       "      <td>103</td>\n",
       "      <td>1</td>\n",
       "      <td>female</td>\n",
       "      <td>Yes</td>\n",
       "    </tr>\n",
       "  </tbody>\n",
       "</table>\n",
       "</div>"
      ],
      "text/plain": [
       "   male  age  education  currentSmoker  cigsPerDay  BPMeds  prevalentStroke  \\\n",
       "0     1   39          1              0           0       0                0   \n",
       "1     0   46          0              0           0       0                0   \n",
       "2     1   48          0              1          20       0                0   \n",
       "3     0   61          1              1          30       0                0   \n",
       "\n",
       "   prevalentHyp  diabetes  totChol  sysBP  diaBP    BMI  heartRate  glucose  \\\n",
       "0             0         0      195  106.0   70.0  26.97         80       77   \n",
       "1             0         0      250  121.0   81.0  28.73         95       76   \n",
       "2             0         0      245  127.5   80.0  25.34         75       70   \n",
       "3             1         0      225  150.0   95.0  28.58         65      103   \n",
       "\n",
       "   TenYearCHD male/female Chance of getting sick  \n",
       "0           0        male                     No  \n",
       "1           0      female                     No  \n",
       "2           0        male                     No  \n",
       "3           1      female                    Yes  "
      ]
     },
     "execution_count": 17,
     "metadata": {},
     "output_type": "execute_result"
    }
   ],
   "source": [
    "heart_diseases[\"male/female\"]=heart_diseases[\"male\"].replace({1:\"male\",0:\"female\"})\n",
    "heart_diseases[\"Chance of getting sick\"]=heart_diseases[\"TenYearCHD\"].replace({1:\"Yes\",0:\"No\"})\n",
    "heart_diseases.head(4)"
   ]
  },
  {
   "cell_type": "markdown",
   "id": "9f078b97-7040-4494-892d-4d363d9d3502",
   "metadata": {},
   "source": [
    "### Understanding the data."
   ]
  },
  {
   "cell_type": "markdown",
   "id": "4cb1c53a-77ea-47d5-a48a-7c98d90570b4",
   "metadata": {},
   "source": [
    "<div>\n",
    "<img src=\"heart_disease4.jpg\" width=\"400\"/>\n",
    "</div>\n"
   ]
  },
  {
   "cell_type": "markdown",
   "id": "773c0b63-c656-4cec-8052-61e98341f78a",
   "metadata": {},
   "source": [
    "### How many male and female?"
   ]
  },
  {
   "cell_type": "code",
   "execution_count": 18,
   "id": "94cfbaac-aab4-4583-92f5-e9183da9ca63",
   "metadata": {},
   "outputs": [
    {
     "data": {
      "text/html": [
       "<div>\n",
       "<style scoped>\n",
       "    .dataframe tbody tr th:only-of-type {\n",
       "        vertical-align: middle;\n",
       "    }\n",
       "\n",
       "    .dataframe tbody tr th {\n",
       "        vertical-align: top;\n",
       "    }\n",
       "\n",
       "    .dataframe thead th {\n",
       "        text-align: right;\n",
       "    }\n",
       "</style>\n",
       "<table border=\"1\" class=\"dataframe\">\n",
       "  <thead>\n",
       "    <tr style=\"text-align: right;\">\n",
       "      <th></th>\n",
       "      <th>male/female</th>\n",
       "    </tr>\n",
       "  </thead>\n",
       "  <tbody>\n",
       "    <tr>\n",
       "      <th>female</th>\n",
       "      <td>2367</td>\n",
       "    </tr>\n",
       "    <tr>\n",
       "      <th>male</th>\n",
       "      <td>1766</td>\n",
       "    </tr>\n",
       "  </tbody>\n",
       "</table>\n",
       "</div>"
      ],
      "text/plain": [
       "        male/female\n",
       "female         2367\n",
       "male           1766"
      ]
     },
     "execution_count": 18,
     "metadata": {},
     "output_type": "execute_result"
    }
   ],
   "source": [
    "pd.DataFrame(heart_diseases['male/female'].value_counts())"
   ]
  },
  {
   "cell_type": "code",
   "execution_count": 41,
   "id": "b4361073-9e89-4542-9e50-7e7f61d3da35",
   "metadata": {},
   "outputs": [
    {
     "data": {
      "text/plain": [
       "<AxesSubplot:ylabel='male/ female'>"
      ]
     },
     "execution_count": 41,
     "metadata": {},
     "output_type": "execute_result"
    },
    {
     "data": {
      "image/png": "[encoded data removed]",
      "text/plain": [
       "<Figure size 432x288 with 1 Axes>"
      ]
     },
     "metadata": {},
     "output_type": "display_data"
    }
   ],
   "source": [
    "heart_diseases['male/female'].value_counts().plot.pie(label=\"male/ female\",autopct='%1.1f%%')"
   ]
  },
  {
   "cell_type": "markdown",
   "id": "7921a116-3d75-430c-b8e9-c9a2500aedd0",
   "metadata": {},
   "source": [
    "##### Study the differences between males and females:\n"
   ]
  },
  {
   "cell_type": "code",
   "execution_count": 20,
   "id": "53e10259-06b9-4300-820c-ed36cd8b5062",
   "metadata": {},
   "outputs": [
    {
     "data": {
      "text/html": [
       "<div>\n",
       "<style scoped>\n",
       "    .dataframe tbody tr th:only-of-type {\n",
       "        vertical-align: middle;\n",
       "    }\n",
       "\n",
       "    .dataframe tbody tr th {\n",
       "        vertical-align: top;\n",
       "    }\n",
       "\n",
       "    .dataframe thead th {\n",
       "        text-align: right;\n",
       "    }\n",
       "</style>\n",
       "<table border=\"1\" class=\"dataframe\">\n",
       "  <thead>\n",
       "    <tr style=\"text-align: right;\">\n",
       "      <th></th>\n",
       "      <th>male</th>\n",
       "      <th>age</th>\n",
       "      <th>education</th>\n",
       "      <th>currentSmoker</th>\n",
       "      <th>cigsPerDay</th>\n",
       "      <th>BPMeds</th>\n",
       "      <th>prevalentStroke</th>\n",
       "      <th>prevalentHyp</th>\n",
       "      <th>diabetes</th>\n",
       "      <th>totChol</th>\n",
       "      <th>sysBP</th>\n",
       "      <th>diaBP</th>\n",
       "      <th>BMI</th>\n",
       "      <th>heartRate</th>\n",
       "      <th>glucose</th>\n",
       "      <th>TenYearCHD</th>\n",
       "      <th>male/female</th>\n",
       "      <th>Chance of getting sick</th>\n",
       "    </tr>\n",
       "  </thead>\n",
       "  <tbody>\n",
       "    <tr>\n",
       "      <th>0</th>\n",
       "      <td>1</td>\n",
       "      <td>39</td>\n",
       "      <td>1</td>\n",
       "      <td>0</td>\n",
       "      <td>0</td>\n",
       "      <td>0</td>\n",
       "      <td>0</td>\n",
       "      <td>0</td>\n",
       "      <td>0</td>\n",
       "      <td>195</td>\n",
       "      <td>106.0</td>\n",
       "      <td>70.0</td>\n",
       "      <td>26.97</td>\n",
       "      <td>80</td>\n",
       "      <td>77</td>\n",
       "      <td>0</td>\n",
       "      <td>male</td>\n",
       "      <td>No</td>\n",
       "    </tr>\n",
       "    <tr>\n",
       "      <th>2</th>\n",
       "      <td>1</td>\n",
       "      <td>48</td>\n",
       "      <td>0</td>\n",
       "      <td>1</td>\n",
       "      <td>20</td>\n",
       "      <td>0</td>\n",
       "      <td>0</td>\n",
       "      <td>0</td>\n",
       "      <td>0</td>\n",
       "      <td>245</td>\n",
       "      <td>127.5</td>\n",
       "      <td>80.0</td>\n",
       "      <td>25.34</td>\n",
       "      <td>75</td>\n",
       "      <td>70</td>\n",
       "      <td>0</td>\n",
       "      <td>male</td>\n",
       "      <td>No</td>\n",
       "    </tr>\n",
       "  </tbody>\n",
       "</table>\n",
       "</div>"
      ],
      "text/plain": [
       "   male  age  education  currentSmoker  cigsPerDay  BPMeds  prevalentStroke  \\\n",
       "0     1   39          1              0           0       0                0   \n",
       "2     1   48          0              1          20       0                0   \n",
       "\n",
       "   prevalentHyp  diabetes  totChol  sysBP  diaBP    BMI  heartRate  glucose  \\\n",
       "0             0         0      195  106.0   70.0  26.97         80       77   \n",
       "2             0         0      245  127.5   80.0  25.34         75       70   \n",
       "\n",
       "   TenYearCHD male/female Chance of getting sick  \n",
       "0           0        male                     No  \n",
       "2           0        male                     No  "
      ]
     },
     "execution_count": 20,
     "metadata": {},
     "output_type": "execute_result"
    }
   ],
   "source": [
    "heart_diseases_male = heart_diseases[heart_diseases.male==1].copy()\n",
    "heart_diseases_male.head(2)"
   ]
  },
  {
   "cell_type": "code",
   "execution_count": 21,
   "id": "ecfd1391-eb7a-4add-a960-d0a966b8139a",
   "metadata": {},
   "outputs": [
    {
     "data": {
      "text/html": [
       "<div>\n",
       "<style scoped>\n",
       "    .dataframe tbody tr th:only-of-type {\n",
       "        vertical-align: middle;\n",
       "    }\n",
       "\n",
       "    .dataframe tbody tr th {\n",
       "        vertical-align: top;\n",
       "    }\n",
       "\n",
       "    .dataframe thead th {\n",
       "        text-align: right;\n",
       "    }\n",
       "</style>\n",
       "<table border=\"1\" class=\"dataframe\">\n",
       "  <thead>\n",
       "    <tr style=\"text-align: right;\">\n",
       "      <th></th>\n",
       "      <th>male</th>\n",
       "      <th>age</th>\n",
       "      <th>education</th>\n",
       "      <th>currentSmoker</th>\n",
       "      <th>cigsPerDay</th>\n",
       "      <th>BPMeds</th>\n",
       "      <th>prevalentStroke</th>\n",
       "      <th>prevalentHyp</th>\n",
       "      <th>diabetes</th>\n",
       "      <th>totChol</th>\n",
       "      <th>sysBP</th>\n",
       "      <th>diaBP</th>\n",
       "      <th>BMI</th>\n",
       "      <th>heartRate</th>\n",
       "      <th>glucose</th>\n",
       "      <th>TenYearCHD</th>\n",
       "      <th>male/female</th>\n",
       "      <th>Chance of getting sick</th>\n",
       "    </tr>\n",
       "  </thead>\n",
       "  <tbody>\n",
       "    <tr>\n",
       "      <th>1</th>\n",
       "      <td>0</td>\n",
       "      <td>46</td>\n",
       "      <td>0</td>\n",
       "      <td>0</td>\n",
       "      <td>0</td>\n",
       "      <td>0</td>\n",
       "      <td>0</td>\n",
       "      <td>0</td>\n",
       "      <td>0</td>\n",
       "      <td>250</td>\n",
       "      <td>121.0</td>\n",
       "      <td>81.0</td>\n",
       "      <td>28.73</td>\n",
       "      <td>95</td>\n",
       "      <td>76</td>\n",
       "      <td>0</td>\n",
       "      <td>female</td>\n",
       "      <td>No</td>\n",
       "    </tr>\n",
       "    <tr>\n",
       "      <th>3</th>\n",
       "      <td>0</td>\n",
       "      <td>61</td>\n",
       "      <td>1</td>\n",
       "      <td>1</td>\n",
       "      <td>30</td>\n",
       "      <td>0</td>\n",
       "      <td>0</td>\n",
       "      <td>1</td>\n",
       "      <td>0</td>\n",
       "      <td>225</td>\n",
       "      <td>150.0</td>\n",
       "      <td>95.0</td>\n",
       "      <td>28.58</td>\n",
       "      <td>65</td>\n",
       "      <td>103</td>\n",
       "      <td>1</td>\n",
       "      <td>female</td>\n",
       "      <td>Yes</td>\n",
       "    </tr>\n",
       "  </tbody>\n",
       "</table>\n",
       "</div>"
      ],
      "text/plain": [
       "   male  age  education  currentSmoker  cigsPerDay  BPMeds  prevalentStroke  \\\n",
       "1     0   46          0              0           0       0                0   \n",
       "3     0   61          1              1          30       0                0   \n",
       "\n",
       "   prevalentHyp  diabetes  totChol  sysBP  diaBP    BMI  heartRate  glucose  \\\n",
       "1             0         0      250  121.0   81.0  28.73         95       76   \n",
       "3             1         0      225  150.0   95.0  28.58         65      103   \n",
       "\n",
       "   TenYearCHD male/female Chance of getting sick  \n",
       "1           0      female                     No  \n",
       "3           1      female                    Yes  "
      ]
     },
     "execution_count": 21,
     "metadata": {},
     "output_type": "execute_result"
    }
   ],
   "source": [
    "heart_diseases_female = heart_diseases[heart_diseases.male==0].copy()\n",
    "heart_diseases_female.head(2)"
   ]
  },
  {
   "cell_type": "markdown",
   "id": "819043b9-c7ed-4a0e-91f1-f3a3d22a26e0",
   "metadata": {},
   "source": [
    "### Who smokes more? Men or women?"
   ]
  },
  {
   "cell_type": "code",
   "execution_count": 23,
   "id": "7b853aed-e8bc-4055-b911-5e954f70763c",
   "metadata": {},
   "outputs": [
    {
     "data": {
      "text/plain": [
       "Text(0.5, 0, 'Male/Female')"
      ]
     },
     "execution_count": 23,
     "metadata": {},
     "output_type": "execute_result"
    },
    {
     "data": {
      "image/png": "[encoded data removed]",
      "text/plain": [
       "<Figure size 432x288 with 1 Axes>"
      ]
     },
     "metadata": {
      "needs_background": "light"
     },
     "output_type": "display_data"
    }
   ],
   "source": [
    "ax=heart_diseases.pivot_table(\"cigsPerDay\",\"male/female\",aggfunc=sum).plot(kind=\"bar\",colormap=\"GnBu_r\")\n",
    "ax.set_title('Cigarettes per day for men and women',fontsize=16)\n",
    "ax.set_ylabel(\"Cigarettes per day\",fontsize=12)\n",
    "ax.set_xlabel(\"Male/Female\")"
   ]
  },
  {
   "cell_type": "markdown",
   "id": "81462305-8a5c-401c-aff3-1c64e0abbd97",
   "metadata": {},
   "source": [
    "- We can learn important thing - men smoke more than women,this is despite the fact that there are almost 15% more women in the data.\n"
   ]
  },
  {
   "cell_type": "markdown",
   "id": "c9f1438f-5f3c-44c1-a483-e06f665684fa",
   "metadata": {},
   "source": [
    "### How does the amount of cigarettes that people smoke during their lives change?\n",
    "- We grouped by age groups of 30-50 and 50-70 because the main ages in the data are 40,50 years old and we wanted to create balanced sample as possible."
   ]
  },
  {
   "cell_type": "code",
   "execution_count": 24,
   "id": "56610416-121d-4010-a3b7-f13ac75f53e0",
   "metadata": {},
   "outputs": [
    {
     "data": {
      "image/png": "[encoded data removed]",
      "text/plain": [
       "<Figure size 1440x360 with 2 Axes>"
      ]
     },
     "metadata": {
      "needs_background": "light"
     },
     "output_type": "display_data"
    }
   ],
   "source": [
    "fig,axes = plt.subplots(figsize=(20,5),ncols=2)\n",
    "McigsPerDay= pd.cut(heart_diseases_male[\"cigsPerDay\"],[-1,10,20,30,40,50,60])\n",
    "FcigsPerDay= pd.cut(heart_diseases_female[\"cigsPerDay\"],[-1,10,20,30,40,50,60])\n",
    "\n",
    "Mage = pd.cut(heart_diseases_male['age'], [30,50,70])\n",
    "Fage = pd.cut(heart_diseases_female['age'], [30,50,70])\n",
    "\n",
    "sns.countplot(ax=axes[0],data= heart_diseases_male,x=McigsPerDay,hue=Mage,palette=\"colorblind\")\n",
    "axes[0].set_title('Male',fontsize=18)\n",
    "axes[0].legend(loc=\"upper right\",title=\"Age\",fontsize=14)\n",
    "axes[0].set_ylabel(\"Count of people\",fontsize=14)\n",
    "axes[0].set_xlabel(\"Cigarettes per day\",fontsize=14)\n",
    "axes[0].set(ylim=(-1,1000))\n",
    "sns.countplot(ax=axes[1],data=heart_diseases_female,x=FcigsPerDay,hue=Fage,palette=\"colorblind\")\n",
    "axes[1].set_title('Female',fontsize=18)\n",
    "axes[1].legend(loc=\"upper right\",title=\"Age\",fontsize=14)\n",
    "axes[1].set_ylabel(\"Count of people\",fontsize=14)\n",
    "axes[1].set_xlabel(\"Cigarettes per day\",fontsize=14)\n",
    "axes[1].set(ylim=(-1,1000))\n",
    "plt.show()\n"
   ]
  },
  {
   "cell_type": "markdown",
   "id": "339a3df3-ae34-47b1-bcdc-926c259e2f93",
   "metadata": {},
   "source": [
    "- From the graph we can learn that when we compared the two age groups we saw that in general the older population smokes less than the younger population and in particular the older population smokes more single cigarettes (1-10 cigarettes per day that is a small amount of cigarettes per day)"
   ]
  },
  {
   "cell_type": "markdown",
   "id": "d6fa1f78-2484-4af5-9716-ef29a53eb6b1",
   "metadata": {},
   "source": [
    "- We only took the age group 30-40 as people at these ages tend to be healthier, we wanted to see the effect of smoking on the risk of getting sick without the addition of age-dependent risk factors. "
   ]
  },
  {
   "cell_type": "code",
   "execution_count": 25,
   "id": "9201ab0d-a3fd-409a-bd18-38176ccdb0e9",
   "metadata": {},
   "outputs": [
    {
     "data": {
      "text/html": [
       "<div>\n",
       "<style scoped>\n",
       "    .dataframe tbody tr th:only-of-type {\n",
       "        vertical-align: middle;\n",
       "    }\n",
       "\n",
       "    .dataframe tbody tr th {\n",
       "        vertical-align: top;\n",
       "    }\n",
       "\n",
       "    .dataframe thead th {\n",
       "        text-align: right;\n",
       "    }\n",
       "</style>\n",
       "<table border=\"1\" class=\"dataframe\">\n",
       "  <thead>\n",
       "    <tr style=\"text-align: right;\">\n",
       "      <th></th>\n",
       "      <th>Chance of getting sick</th>\n",
       "      <th>No</th>\n",
       "      <th>Yes</th>\n",
       "    </tr>\n",
       "    <tr>\n",
       "      <th>male/female</th>\n",
       "      <th>age</th>\n",
       "      <th></th>\n",
       "      <th></th>\n",
       "    </tr>\n",
       "  </thead>\n",
       "  <tbody>\n",
       "    <tr>\n",
       "      <th>female</th>\n",
       "      <th>(30, 40]</th>\n",
       "      <td>7.835052</td>\n",
       "      <td>14.6875</td>\n",
       "    </tr>\n",
       "  </tbody>\n",
       "</table>\n",
       "</div>"
      ],
      "text/plain": [
       "Chance of getting sick        No      Yes\n",
       "male/female age                          \n",
       "female      (30, 40]    7.835052  14.6875"
      ]
     },
     "execution_count": 25,
     "metadata": {},
     "output_type": "execute_result"
    }
   ],
   "source": [
    "age=pd.cut(heart_diseases_female['age'],[30,40])\n",
    "heart_diseases_female.pivot_table(\"cigsPerDay\",[\"male/female\",age],\"Chance of getting sick\")"
   ]
  },
  {
   "cell_type": "code",
   "execution_count": 26,
   "id": "8ac6e92b-0961-4c2e-87e8-71e0ee6f83b5",
   "metadata": {},
   "outputs": [
    {
     "data": {
      "text/html": [
       "<div>\n",
       "<style scoped>\n",
       "    .dataframe tbody tr th:only-of-type {\n",
       "        vertical-align: middle;\n",
       "    }\n",
       "\n",
       "    .dataframe tbody tr th {\n",
       "        vertical-align: top;\n",
       "    }\n",
       "\n",
       "    .dataframe thead th {\n",
       "        text-align: right;\n",
       "    }\n",
       "</style>\n",
       "<table border=\"1\" class=\"dataframe\">\n",
       "  <thead>\n",
       "    <tr style=\"text-align: right;\">\n",
       "      <th></th>\n",
       "      <th>Chance of getting sick</th>\n",
       "      <th>No</th>\n",
       "      <th>Yes</th>\n",
       "    </tr>\n",
       "    <tr>\n",
       "      <th>male/female</th>\n",
       "      <th>age</th>\n",
       "      <th></th>\n",
       "      <th></th>\n",
       "    </tr>\n",
       "  </thead>\n",
       "  <tbody>\n",
       "    <tr>\n",
       "      <th>male</th>\n",
       "      <th>(30, 40]</th>\n",
       "      <td>15.07541</td>\n",
       "      <td>16.952381</td>\n",
       "    </tr>\n",
       "  </tbody>\n",
       "</table>\n",
       "</div>"
      ],
      "text/plain": [
       "Chance of getting sick        No        Yes\n",
       "male/female age                            \n",
       "male        (30, 40]    15.07541  16.952381"
      ]
     },
     "execution_count": 26,
     "metadata": {},
     "output_type": "execute_result"
    }
   ],
   "source": [
    "age2=pd.cut(heart_diseases_male['age'],[30,40])\n",
    "heart_diseases_male.pivot_table(\"cigsPerDay\",[\"male/female\",age2],\"Chance of getting sick\")"
   ]
  },
  {
   "cell_type": "markdown",
   "id": "1523b497-7924-452f-846b-8539979effc9",
   "metadata": {},
   "source": [
    "#### What conclusions can we draw so far?\n",
    "\n",
    "- During the data analysis we saw that over the age of 40 the number of cigarettes smoked by people with a risk of  getting sick and without a risk of getting sick is almost the same, meaning that it does not matter how many        cigarettes people smoke.\n",
    "\n",
    "- A very interesting thing that can be seen is that in order for a woman to have a chance of getting heart disease she has to smoke a lot more than a man,this led us to examine whether gender is a significant factor in the chance of developing heart disease.\n"
   ]
  },
  {
   "cell_type": "markdown",
   "id": "9b4e6805-f347-47c5-9e2c-ff072bc788eb",
   "metadata": {},
   "source": [
    "#### Who has a higher risk of developing heart disease in the next ten years men or women?\n"
   ]
  },
  {
   "cell_type": "code",
   "execution_count": 44,
   "id": "7a7543a5-33e9-49b7-9a9a-e045f131e68d",
   "metadata": {},
   "outputs": [
    {
     "data": {
      "image/png": "[encoded data removed]",
      "text/plain": [
       "<Figure size 1800x360 with 2 Axes>"
      ]
     },
     "metadata": {},
     "output_type": "display_data"
    }
   ],
   "source": [
    "fig,axes = plt.subplots(figsize=(25,5),ncols=2)\n",
    "\n",
    "heart_diseases_male['TenYearCHD'].value_counts().plot.pie(ax=axes[0],autopct=\"%1.1f%%\", title = \"TenYearCHD-Male\" )\n",
    "heart_diseases_female['TenYearCHD'].value_counts().plot.pie(ax=axes[1],autopct=\"%1.1f%%\", title =\"TenYearCHD-Female\")\n",
    "plt.show()"
   ]
  },
  {
   "cell_type": "markdown",
   "id": "78ac38ee-4103-4368-abff-43f200f6815b",
   "metadata": {},
   "source": [
    "- Important conclusion - Men's we are sorry but:\n",
    "   We can see that men have a higher risk of developing heart disease in the next ten years(although the number of women in the survey is greater)."
   ]
  },
  {
   "cell_type": "markdown",
   "id": "55a94932-361f-4a21-ac1d-3d60a5f76461",
   "metadata": {},
   "source": [
    "#### We want to see the distribution of cholesterol and glucose values in men and women."
   ]
  },
  {
   "cell_type": "code",
   "execution_count": 27,
   "id": "fb62365a-a2cb-42c0-b3cb-01db82a02566",
   "metadata": {},
   "outputs": [
    {
     "data": {
      "image/png": "[encoded data removed]",
      "text/plain": [
       "<Figure size 1440x360 with 2 Axes>"
      ]
     },
     "metadata": {
      "needs_background": "light"
     },
     "output_type": "display_data"
    }
   ],
   "source": [
    "fig,axes= plt.subplots(figsize=(20,5),ncols=2)\n",
    "sns.boxplot(ax=axes[0],y='glucose',data=heart_diseases_male,color='red')\n",
    "axes[0].set_title('glucose-male',fontsize=16)\n",
    "sns.boxplot(ax=axes[1],y='glucose',data=heart_diseases_female,color='red')\n",
    "axes[1].set_title('glucose-female',fontsize=16)\n",
    "plt.show()"
   ]
  },
  {
   "cell_type": "code",
   "execution_count": 28,
   "id": "4e76075d-caab-40cb-93b1-d6abcbec2f09",
   "metadata": {},
   "outputs": [
    {
     "data": {
      "image/png": "[encoded data removed]",
      "text/plain": [
       "<Figure size 1440x360 with 2 Axes>"
      ]
     },
     "metadata": {
      "needs_background": "light"
     },
     "output_type": "display_data"
    }
   ],
   "source": [
    "fig,axes= plt.subplots(figsize=(20,5),ncols=2)\n",
    "sns.boxplot(ax=axes[0],y='totChol',data=heart_diseases_male,color='yellow')\n",
    "axes[0].set_title('totChol-male',fontsize=16)\n",
    "axes[0].set(ylim=(100,600))\n",
    "sns.boxplot(ax=axes[1],y='totChol',data=heart_diseases_female,color='yellow')\n",
    "axes[1].set_title('totChol-female',fontsize=16)\n",
    "plt.show()"
   ]
  },
  {
   "cell_type": "markdown",
   "id": "48965c3c-49fe-4af1-9b41-88ec0adf74e8",
   "metadata": {},
   "source": [
    "- We can see that the distribution of the values we tested is a bit unusual, the average is in normal values but we have a lot off the lines.\n",
    "\n",
    "- Although cholesterol levels are slightly high, given the fact that these are Americans, the values are normal (Americans's, normal cholesterol values are about 6% higher than in other Western countries).\n",
    "\n",
    "- This finding leads us to another important conclusion in any data related to disease prediction- Most of the population is healthy! This conclusion makes it very difficult to predict who will be sick and who will not"
   ]
  },
  {
   "cell_type": "markdown",
   "id": "46bd2fb9-46df-48fd-84e4-d6f467932ace",
   "metadata": {},
   "source": [
    "#### Because of the previous conclusion we raised:\n",
    "- At first we tried to predict with the help of several models who would be sick and who would not, the accuracy of the models was high, about 90 percent success, but no model was able to predict patients at all.\n",
    "- We then realized that no model can predict patients because there are almost no patients (something we mentioned earlier) so he will constantly predict that the patient will be healthy and thus be right in 90 percent of cases.\n",
    "- So we cut from our data 82 percent of healthy patients in order to create a 50/50 sensible ratio of patients vs healthy."
   ]
  },
  {
   "cell_type": "markdown",
   "id": "9694fe31-af03-4e3b-a888-57f20d49a861",
   "metadata": {},
   "source": [
    "<div>\n",
    "<img src=\"heart_disease3.jpg\" style=\"width:350px;height;150px\"/>\n",
    "</div>\n"
   ]
  },
  {
   "cell_type": "markdown",
   "id": "91ef4686-d6c6-43c0-a8d1-f2c402472f58",
   "metadata": {},
   "source": [
    "##### This is the ratio of patients vs healthy before we cut the data."
   ]
  },
  {
   "cell_type": "code",
   "execution_count": 29,
   "id": "cf1c6325-426e-48b1-a695-c313cb91dd42",
   "metadata": {},
   "outputs": [
    {
     "data": {
      "text/html": [
       "<div>\n",
       "<style scoped>\n",
       "    .dataframe tbody tr th:only-of-type {\n",
       "        vertical-align: middle;\n",
       "    }\n",
       "\n",
       "    .dataframe tbody tr th {\n",
       "        vertical-align: top;\n",
       "    }\n",
       "\n",
       "    .dataframe thead th {\n",
       "        text-align: right;\n",
       "    }\n",
       "</style>\n",
       "<table border=\"1\" class=\"dataframe\">\n",
       "  <thead>\n",
       "    <tr style=\"text-align: right;\">\n",
       "      <th></th>\n",
       "      <th>TenYearCHD</th>\n",
       "    </tr>\n",
       "  </thead>\n",
       "  <tbody>\n",
       "    <tr>\n",
       "      <th>0</th>\n",
       "      <td>3505</td>\n",
       "    </tr>\n",
       "    <tr>\n",
       "      <th>1</th>\n",
       "      <td>628</td>\n",
       "    </tr>\n",
       "  </tbody>\n",
       "</table>\n",
       "</div>"
      ],
      "text/plain": [
       "   TenYearCHD\n",
       "0        3505\n",
       "1         628"
      ]
     },
     "execution_count": 29,
     "metadata": {},
     "output_type": "execute_result"
    }
   ],
   "source": [
    "pd.DataFrame(heart_diseases['TenYearCHD'].value_counts())"
   ]
  },
  {
   "cell_type": "markdown",
   "id": "85dd9671-62de-4026-87b1-b4ab696b58c8",
   "metadata": {},
   "source": [
    "##### Here we cut 82% of the healthy patients and redefine our data."
   ]
  },
  {
   "cell_type": "code",
   "execution_count": 31,
   "id": "440b51ac-ba4e-4d85-9f2e-4799f76ba5a6",
   "metadata": {},
   "outputs": [],
   "source": [
    "drop_idx = heart_diseases[heart_diseases['TenYearCHD']==0].sample(frac=0.82,random_state=6).index\n",
    "heart_diseases_new=heart_diseases.drop(drop_idx).copy()"
   ]
  },
  {
   "cell_type": "markdown",
   "id": "8d75321f-8271-46f7-9eef-4882c8178c41",
   "metadata": {},
   "source": [
    "##### This is the ratio of patients vs healthy after we cut the data."
   ]
  },
  {
   "cell_type": "code",
   "execution_count": 32,
   "id": "d74fbae0-d1bb-4864-88f0-6892e6aec509",
   "metadata": {},
   "outputs": [
    {
     "data": {
      "text/html": [
       "<div>\n",
       "<style scoped>\n",
       "    .dataframe tbody tr th:only-of-type {\n",
       "        vertical-align: middle;\n",
       "    }\n",
       "\n",
       "    .dataframe tbody tr th {\n",
       "        vertical-align: top;\n",
       "    }\n",
       "\n",
       "    .dataframe thead th {\n",
       "        text-align: right;\n",
       "    }\n",
       "</style>\n",
       "<table border=\"1\" class=\"dataframe\">\n",
       "  <thead>\n",
       "    <tr style=\"text-align: right;\">\n",
       "      <th></th>\n",
       "      <th>TenYearCHD</th>\n",
       "    </tr>\n",
       "  </thead>\n",
       "  <tbody>\n",
       "    <tr>\n",
       "      <th>0</th>\n",
       "      <td>631</td>\n",
       "    </tr>\n",
       "    <tr>\n",
       "      <th>1</th>\n",
       "      <td>628</td>\n",
       "    </tr>\n",
       "  </tbody>\n",
       "</table>\n",
       "</div>"
      ],
      "text/plain": [
       "   TenYearCHD\n",
       "0         631\n",
       "1         628"
      ]
     },
     "execution_count": 32,
     "metadata": {},
     "output_type": "execute_result"
    }
   ],
   "source": [
    "pd.DataFrame(heart_diseases_new['TenYearCHD'].value_counts())"
   ]
  },
  {
   "cell_type": "markdown",
   "id": "e686336b-17b5-49ca-9e22-db6ffd7b61e7",
   "metadata": {},
   "source": [
    "##### Define the features and target of the model.\n",
    "##### Split the data into 30% test and 70% training."
   ]
  },
  {
   "cell_type": "code",
   "execution_count": 33,
   "id": "8078fc7a-5c11-4f95-8472-60204e6c9aea",
   "metadata": {},
   "outputs": [],
   "source": [
    "features = ['age', 'totChol', 'BPMeds','glucose','cigsPerDay','diabetes','sysBP','diaBP']\n",
    "X = heart_diseases_new[features]\n",
    "y = heart_diseases_new['TenYearCHD']\n",
    "X_train, X_test, y_train, y_test = sk.model_selection.train_test_split(X, y, test_size=0.3, random_state=23) "
   ]
  },
  {
   "cell_type": "markdown",
   "id": "1f777d1a-d31d-4498-b65c-2cae8d8b48a9",
   "metadata": {},
   "source": [
    "- Choose a random forest model.\n",
    "- Fit the model.\n",
    "- Make prediction.\n",
    "- Check the accuracy of the model."
   ]
  },
  {
   "cell_type": "code",
   "execution_count": 43,
   "id": "b6d14942-328a-47d5-9091-5570718d0ffa",
   "metadata": {},
   "outputs": [
    {
     "name": "stdout",
     "output_type": "stream",
     "text": [
      "The accuracy of our model: 0.6587301587301587 !\n"
     ]
    }
   ],
   "source": [
    "from sklearn.ensemble import RandomForestClassifier\n",
    "\n",
    "random_f = RandomForestClassifier(min_samples_leaf=8,n_estimators=1000,max_depth=8, random_state=0, criterion='gini')\n",
    "random_f.fit(X_train, y_train)\n",
    "predrf = random_f.predict(X_test)\n",
    "acc = sk.metrics.accuracy_score(predrf, y_test)\n",
    "print(\"The accuracy of our model:\",acc,\"!\")"
   ]
  },
  {
   "cell_type": "markdown",
   "id": "f37d96fe-b631-4115-9b1d-93754d777d29",
   "metadata": {},
   "source": [
    "- Check by matrix In some cases we were right and in some cases we were wrong."
   ]
  },
  {
   "cell_type": "code",
   "execution_count": 35,
   "id": "1012c11e-6542-42c1-9326-b467cc92a361",
   "metadata": {},
   "outputs": [
    {
     "data": {
      "text/plain": [
       "<sklearn.metrics._plot.confusion_matrix.ConfusionMatrixDisplay at 0x1aba0b77250>"
      ]
     },
     "execution_count": 35,
     "metadata": {},
     "output_type": "execute_result"
    },
    {
     "data": {
      "image/png": "[encoded data removed]",
      "text/plain": [
       "<Figure size 432x288 with 2 Axes>"
      ]
     },
     "metadata": {
      "needs_background": "light"
     },
     "output_type": "display_data"
    }
   ],
   "source": [
    "sk.metrics.plot_confusion_matrix(random_f, X_test, y_test, cmap=plt.cm.Blues)"
   ]
  },
  {
   "cell_type": "markdown",
   "id": "f0582315-76c1-4bcb-a213-0bc6b949c0ea",
   "metadata": {},
   "source": [
    "- We can see that our accuracy has really decreased, but we have been able to predict a significant percentage of patients. \n",
    "- The percentage of patients since we were able to predict that they have a chance of getting sick is of great importance! These are people who now know they need to change their lifestyle / seek medical attention that can save their lives."
   ]
  },
  {
   "cell_type": "code",
   "execution_count": null,
   "id": "ea8d9b8c-1114-44df-884e-890db33cd25a",
   "metadata": {},
   "outputs": [],
   "source": []
  }
 ],
 "metadata": {
  "kernelspec": {
   "display_name": "Python 3",
   "language": "python",
   "name": "python3"
  },
  "language_info": {
   "codemirror_mode": {
    "name": "ipython",
    "version": 3
   },
   "file_extension": ".py",
   "mimetype": "text/x-python",
   "name": "python",
   "nbconvert_exporter": "python",
   "pygments_lexer": "ipython3",
   "version": "3.8.8"
  }
 },
 "nbformat": 4,
 "nbformat_minor": 5
}
